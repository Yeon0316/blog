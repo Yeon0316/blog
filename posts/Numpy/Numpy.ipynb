{
  "cells": [
    {
      "cell_type": "raw",
      "metadata": {},
      "source": [
        "---\n",
        "title: \"Numpy\"\n",
        "author: \"방채연\"\n",
        "date: \"2023-04-04\"\n",
        "categories: [python, Numpy, Data mining]\n",
        "image: \"Numpy_img.jpg\"\n",
        "---"
      ],
      "id": "89044f33"
    },
    {
      "cell_type": "markdown",
      "metadata": {},
      "source": [
        "# \"Numpy 란\"\n",
        "**도구 - Numpy**\n",
        "- 넘파이(NumPy)는 파이썬의 과학 컴퓨팅을 위한 기본 라이브러리\n",
        "- 핵심 = 강력한 N-차원 배열 객체\n",
        "- 선형 대수, 푸리에(Fourier) 변환, 유사 난수 생성과 같은 유용한 함수들을 제공\n",
        "\n",
        "# 배열 생성\n"
      ],
      "id": "1613bed9"
    },
    {
      "cell_type": "code",
      "metadata": {},
      "source": [
        "# Numpy import\n",
        "import numpy as np"
      ],
      "id": "bb4c9d08",
      "execution_count": null,
      "outputs": []
    },
    {
      "cell_type": "markdown",
      "metadata": {},
      "source": [
        "## `np.zeros`\n",
        "`zeros` 함수는 0으로 채워진 배열을 생성:\n"
      ],
      "id": "ce1cd6e3"
    },
    {
      "cell_type": "code",
      "metadata": {},
      "source": [
        "### 5개의 0이 들어간 zero 배열 생성\n",
        "np.zeros(5)"
      ],
      "id": "eb63befd",
      "execution_count": null,
      "outputs": []
    },
    {
      "cell_type": "markdown",
      "metadata": {},
      "source": [
        "2D 배열(즉, 행렬)을 만들려면 원하는 행과 열의 크기를 튜플로 전달.\n"
      ],
      "id": "cef385af"
    },
    {
      "cell_type": "code",
      "metadata": {},
      "source": [
        "np.zeros((3, 4))"
      ],
      "id": "025085e3",
      "execution_count": null,
      "outputs": []
    },
    {
      "cell_type": "markdown",
      "metadata": {},
      "source": [
        "## 용어\n",
        "- 넘파이에서 각 차원을 축(axis) 이라고 함.\n",
        "- 축의 개수를 랭크(rank) 라고 함.\n",
        "  - 3x4의 행렬 = 랭크 2인 배열(즉, 2차원)\n",
        "  - 첫 번째 축의 길이는 3, 두 번째 축의 길이는 4.\n",
        "- 배열의 축 길이 = 배열의 크기(shape)\n",
        "  - 위 행렬의 크기는 `(3, 4)`\n",
        "  - 랭크 = 크기의 길이\n",
        "- 배열의 사이즈(size)는 전체 원소의 개수이다. 축의 길이를 모두 곱해서 구할 수 있음 (3x4 = 12)\n"
      ],
      "id": "bcac52b1"
    },
    {
      "cell_type": "code",
      "metadata": {},
      "source": [
        "### 3행 4열의 zeros 배열 생성\n",
        "a = np.zeros((3, 4))\n",
        "a"
      ],
      "id": "c2f22119",
      "execution_count": null,
      "outputs": []
    },
    {
      "cell_type": "code",
      "metadata": {},
      "source": [
        "a.shape"
      ],
      "id": "4960bcda",
      "execution_count": null,
      "outputs": []
    },
    {
      "cell_type": "code",
      "metadata": {},
      "source": [
        "a.ndim  # len(a.shape)와 같음"
      ],
      "id": "f935b2ad",
      "execution_count": null,
      "outputs": []
    },
    {
      "cell_type": "code",
      "metadata": {},
      "source": [
        "a.size"
      ],
      "id": "93df03cc",
      "execution_count": null,
      "outputs": []
    },
    {
      "cell_type": "markdown",
      "metadata": {},
      "source": [
        "## N-차원 배열\n",
        "임의의 랭크 수를 가진 N-차원 배열을 만들 수 있음.\n"
      ],
      "id": "d50c2c64"
    },
    {
      "cell_type": "code",
      "metadata": {},
      "source": [
        "### 크기가 (2, 3, 4)인 3D 배열(랭크는 3)\n",
        "np.zeros((2, 3, 4))"
      ],
      "id": "37bf2940",
      "execution_count": null,
      "outputs": []
    },
    {
      "cell_type": "markdown",
      "metadata": {},
      "source": [
        "## 배열 타입\n",
        "넘파이 배열의 타입은 `ndarray`\n"
      ],
      "id": "0fcdcb66"
    },
    {
      "cell_type": "code",
      "metadata": {},
      "source": [
        "type(np.zeros((3, 4)))"
      ],
      "id": "000d516d",
      "execution_count": null,
      "outputs": []
    },
    {
      "cell_type": "markdown",
      "metadata": {},
      "source": [
        "## `np.ones`\n",
        "`ndarray`를 만들 수 있는 넘파이 함수는 많음\n",
        "`ones` 함수는 1로 채워진 배열을 생성\n"
      ],
      "id": "974a83d3"
    },
    {
      "cell_type": "code",
      "metadata": {},
      "source": [
        "### 1로 채워진 3x4 크기의 행렬\n",
        "np.ones((3, 4))"
      ],
      "id": "b12d355c",
      "execution_count": null,
      "outputs": []
    },
    {
      "cell_type": "markdown",
      "metadata": {},
      "source": [
        "## `np.full`\n",
        "주어진 값으로 지정된 크기의 배열을 초기화 함.\n"
      ],
      "id": "47a973d4"
    },
    {
      "cell_type": "code",
      "metadata": {},
      "source": [
        "###`π`로 채워진 3 x 4 크기의 행렬\n",
        "np.full((3, 4), np.pi)  # np.pi = 원주율(pi)의 근사값을 나타냄"
      ],
      "id": "bcda0c90",
      "execution_count": null,
      "outputs": []
    },
    {
      "cell_type": "markdown",
      "metadata": {},
      "source": [
        "## `np.empty`\n",
        "지정된 크기의 비어있는(empty) 배열을 생성함.\n",
        "초기화되지 않은 값으로 배열을 생성.\n",
        "배열의 내용은 예측 불가능 하며, 메모리 상황에 따라 달라짐.\n"
      ],
      "id": "9ade31ce"
    },
    {
      "cell_type": "code",
      "metadata": {},
      "source": [
        "np.empty(2, 3)"
      ],
      "id": "be9ff7a5",
      "execution_count": null,
      "outputs": []
    },
    {
      "cell_type": "markdown",
      "metadata": {},
      "source": [
        "## `np.array`\n",
        "`array` 함수는 파이썬 리스트를 사용하여 `ndarray`를 초기화 함.\n"
      ],
      "id": "6285e7b5"
    },
    {
      "cell_type": "code",
      "metadata": {},
      "source": [
        "np.array([[1, 2, 3, 4], [10, 20, 30, 40]])"
      ],
      "id": "b8ec717e",
      "execution_count": null,
      "outputs": []
    },
    {
      "cell_type": "markdown",
      "metadata": {},
      "source": [
        "## `np.arange`\n",
        "파이썬의 기본 `range` 함수와 비슷한 넘파이 `arange` 함수를 사용하여 `ndarray`를 만들 수 있음.\n",
        "\n",
        "# 기본 `range` 함수와 `np.arange` 함수의 차이점\n",
        "- `range` 함수는 리스트를 반환하지만, `arange` 함수는 NumPy array를 반환함.\n",
        "- `range` 함수는 정수(integer) 값만 받고, 시작(start), 끝(stop), 간격(step) 값으로 구성된 파라미터를 입력 받음.\n",
        "- `arange` 함수는 부동소수점(floation-point) 값을 받을 수 있으며, 시작, 끝, 간격 값 외에도 데이터 타입(type)과 배열 순서(order)를 지정할 수 있는 파라미터를 입력 받음.\n"
      ],
      "id": "e5e223e8"
    },
    {
      "cell_type": "code",
      "metadata": {},
      "source": [
        "# 시작값, 끝값, 간격 순.\n",
        "np.arrange(1, 5)"
      ],
      "id": "779ecd28",
      "execution_count": null,
      "outputs": []
    },
    {
      "cell_type": "code",
      "metadata": {},
      "source": [
        "np.arange(1.0, 5.0)"
      ],
      "id": "5dc52376",
      "execution_count": null,
      "outputs": []
    },
    {
      "cell_type": "code",
      "metadata": {},
      "source": [
        "np.arange(1, 5, 0.5)"
      ],
      "id": "b6c689d9",
      "execution_count": null,
      "outputs": []
    },
    {
      "cell_type": "markdown",
      "metadata": {},
      "source": [
        "부동 소수를 사용할 경우, 원소의 개수가 일정하지 않을 수 있음.\n"
      ],
      "id": "4872f904"
    },
    {
      "cell_type": "code",
      "metadata": {},
      "source": [
        "### 부동 소수 오차 때문에, 최댓값은 4/3 EHsms 5/3이 됨.\n",
        "print(np.arange(0, 5/3, 1/3))\n",
        "print(np.arange(0, 5/3, 0.333333333))\n",
        "print(np.arange(0, 5/3, 0.333333334))"
      ],
      "id": "3b639313",
      "execution_count": null,
      "outputs": []
    },
    {
      "cell_type": "markdown",
      "metadata": {},
      "source": [
        "그냥 계산을 할때는`arange` 함수가 더 빠름."
      ],
      "id": "f1551b0d"
    },
    {
      "cell_type": "code",
      "metadata": {},
      "source": [
        "my_arr=np.arange(1000000)\n",
        "my_list=list(range(1000000))\n",
        "\n",
        "%time for _ in range(10): my_arr2=my_arr*2\n",
        "%time for _ in range(10): my_list2=[x*2 for x in my_list]"
      ],
      "id": "fd431060",
      "execution_count": null,
      "outputs": []
    },
    {
      "cell_type": "markdown",
      "metadata": {},
      "source": [
        "하지만 반복문에 사용할 경우 좋지 않음.\n"
      ],
      "id": "f8b8ce67"
    },
    {
      "cell_type": "code",
      "metadata": {},
      "source": [
        "size=10\n",
        "for x in range(size): x**2\n",
        "\n",
        "import sys\n",
        "size=10\n",
        "%timeit for x in range(size): x**2\n",
        "    \n",
        "%timeit for x in np.arange(size): x**2 # 별로임\n",
        "    \n",
        "%timeit np.arange(size) ** 2"
      ],
      "id": "a2617739",
      "execution_count": null,
      "outputs": []
    },
    {
      "cell_type": "markdown",
      "metadata": {},
      "source": [
        "## `np.linspace`\n",
        "위와 같은 이유로 부동 소수를 사용할 땐 `arange` 대신에 `linspace` 함수를 사용하는 것이 좋다. `linspace` 함수는 지정된 개수만큼 두 값 사이를 나눈 배열을 반환함.\n"
      ],
      "id": "48140aab"
    },
    {
      "cell_type": "code",
      "metadata": {},
      "source": [
        "### arange 와는 다르게 최댓값이 포함됨.\n",
        "print(np.linspace(0, 5/3, 6))"
      ],
      "id": "52e0ea42",
      "execution_count": null,
      "outputs": []
    },
    {
      "cell_type": "markdown",
      "metadata": {},
      "source": [
        "## `np.rand` 와 `np.randn`\n",
        "넘파이의 `random` 모듈에는 `ndarry`를 랜덤한 값으로 초기화 할 수 있는 함수들이 존재함.\n",
        "\n",
        "균등 분포인 0과 1 사이의 랜덤한 부동 소수로 3x4 행렬을 초기화:"
      ],
      "id": "17301cc1"
    },
    {
      "cell_type": "code",
      "metadata": {},
      "source": [
        "np.random.rand(3, 4)"
      ],
      "id": "a784266f",
      "execution_count": null,
      "outputs": []
    },
    {
      "cell_type": "markdown",
      "metadata": {},
      "source": [
        "평균이 0이고 분산이 1인 일변량 정규 분포(가우시안 분포)에서 샘플링한 랜덤한 부동 소수를 담은 3x4 행렬:\n"
      ],
      "id": "884711b5"
    },
    {
      "cell_type": "code",
      "metadata": {},
      "source": [
        "np.random.randn(3, 4)"
      ],
      "id": "f6eef743",
      "execution_count": null,
      "outputs": []
    },
    {
      "cell_type": "markdown",
      "metadata": {},
      "source": [
        "맷플롯립을 사용해 분포의 모양 알아보기:\n"
      ],
      "id": "c3eed522"
    },
    {
      "cell_type": "code",
      "metadata": {},
      "source": [
        "%matplotlib inline\n",
        "import matplotlib.pyplot as plt"
      ],
      "id": "d6a3115e",
      "execution_count": null,
      "outputs": []
    },
    {
      "cell_type": "code",
      "metadata": {},
      "source": [
        "plt.hist(np.random.rand(100000), density=True, bins=100, histtype=\"step\", color=\"blue\", label=\"rand\")\n",
        "plt.hist(np.random.randn(100000), density=True, bins=100, histtype=\"step\", color=\"red\", label=\"randn\")\n",
        "plt.axis([-2.5, 2.5, 0, 1.1])\n",
        "plt.legend(loc = \"upper left\")\n",
        "plt.title(\"Random distributions\")\n",
        "plt.xlabel(\"Value\")\n",
        "plt.ylabel(\"Density\")\n",
        "plt.show()"
      ],
      "id": "a276e9a4",
      "execution_count": null,
      "outputs": []
    },
    {
      "cell_type": "markdown",
      "metadata": {},
      "source": [
        "## `np.fromfunction`\n",
        "지정된 함수를 이용하여 배열(array)을 생성.\n",
        "생성할 배열의 크기를 정의하고, 배열의 인덱스 값을 이용하여 각 요소의 값을 계산하는 함수를 제공해야함.\n",
        "- numpy.fromfunction(function, shape, **kwargs)\n",
        "  - `function`: 배열 요소의 값을 계산하는 함수\n",
        "  - `shape`: 생성할 배열의 크기를 지정\n",
        "  - `**kwargs`: 해당 함수에 전달한 추가적인 인수들을 나타냄\n"
      ],
      "id": "0a34e6bd"
    },
    {
      "cell_type": "code",
      "metadata": {},
      "source": [
        "def my_function(z, y, x):\n",
        "    return x + 10 * y + 100 * z\n",
        "\n",
        "np.fromfunction(my_function, (3, 2, 10))"
      ],
      "id": "eff9e01d",
      "execution_count": null,
      "outputs": []
    }
  ],
  "metadata": {
    "kernelspec": {
      "name": "python3",
      "language": "python",
      "display_name": "Python 3 (ipykernel)"
    }
  },
  "nbformat": 4,
  "nbformat_minor": 5
}